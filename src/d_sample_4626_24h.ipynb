{
 "cells": [
  {
   "cell_type": "markdown",
   "id": "c9d805ee-42cb-4628-806f-9dad9b627055",
   "metadata": {},
   "source": [
    "# Dataset D: small subset of ../data/powtemp_1min_mean\n",
    "\n",
    "Dtaset D is a set five random full day parquet files"
   ]
  },
  {
   "cell_type": "code",
   "execution_count": 1,
   "id": "3b219538-54f9-490b-acf2-54cae4d26d2c",
   "metadata": {},
   "outputs": [],
   "source": [
    "DATA_BASE_PATH = \"../data\"\n",
    "INPUT_PATH = f\"{DATA_BASE_PATH}/powtemp_1min_mean\"\n",
    "OUTPUT_PATH = f\"{DATA_BASE_PATH}/d_sample_4626_24h\""
   ]
  },
  {
   "cell_type": "markdown",
   "id": "36856d5b-1684-4681-a934-d4591a573afd",
   "metadata": {},
   "source": [
    "Simply copy five handpicked files to the target directory"
   ]
  },
  {
   "cell_type": "code",
   "execution_count": 2,
   "id": "eadad85a-5874-41b7-b0a6-0297f01823df",
   "metadata": {},
   "outputs": [],
   "source": [
    "# Copy from month 1\n",
    "!cp {INPUT_PATH}/202001/20200120.parquet {OUTPUT_PATH}/20200120.parquet"
   ]
  },
  {
   "cell_type": "code",
   "execution_count": 3,
   "id": "4de5c53d-7075-4b1e-802f-2581f460f8af",
   "metadata": {},
   "outputs": [],
   "source": [
    "# Copy from month 2\n",
    "!cp {INPUT_PATH}/202008/20200820.parquet {OUTPUT_PATH}/20200820.parquet"
   ]
  },
  {
   "cell_type": "code",
   "execution_count": 4,
   "id": "01b2c039-f974-43aa-b268-d82c99bb14bf",
   "metadata": {},
   "outputs": [],
   "source": [
    "# Copy from month 3\n",
    "!cp {INPUT_PATH}/202102/20210220.parquet {OUTPUT_PATH}/20210220.parquet"
   ]
  },
  {
   "cell_type": "code",
   "execution_count": 5,
   "id": "4d56da07-163b-403c-bbe6-1ebe751439a8",
   "metadata": {},
   "outputs": [],
   "source": [
    "# Copy from month 4\n",
    "!cp {INPUT_PATH}/202108/20210810.parquet {OUTPUT_PATH}/20210810.parquet"
   ]
  },
  {
   "cell_type": "code",
   "execution_count": 6,
   "id": "a2f2c417-58a4-435e-80cb-362649d8db3a",
   "metadata": {},
   "outputs": [],
   "source": [
    "# Copy from month 5\n",
    "!cp {INPUT_PATH}/202201/20220120.parquet {OUTPUT_PATH}/20220120.parquet"
   ]
  },
  {
   "cell_type": "code",
   "execution_count": null,
   "id": "fdd9cd78-b808-4b88-a4ad-09e549514881",
   "metadata": {},
   "outputs": [],
   "source": []
  }
 ],
 "metadata": {
  "kernelspec": {
   "display_name": "OLCF-base (ipykernel)",
   "language": "python",
   "name": "python3"
  },
  "language_info": {
   "codemirror_mode": {
    "name": "ipython",
    "version": 3
   },
   "file_extension": ".py",
   "mimetype": "text/x-python",
   "name": "python",
   "nbconvert_exporter": "python",
   "pygments_lexer": "ipython3",
   "version": "3.8.10"
  }
 },
 "nbformat": 4,
 "nbformat_minor": 5
}
