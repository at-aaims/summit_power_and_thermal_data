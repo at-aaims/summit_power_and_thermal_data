{
 "cells": [
  {
   "cell_type": "markdown",
   "id": "b2553760-06de-4c97-b16e-d944a0f087c6",
   "metadata": {},
   "source": [
    "# Dataset read tests"
   ]
  },
  {
   "cell_type": "markdown",
   "id": "a52987e6-b720-46f5-a830-0cb71af4f3ad",
   "metadata": {
    "tags": []
   },
   "source": [
    "# Dask setup"
   ]
  },
  {
   "cell_type": "code",
   "execution_count": 1,
   "id": "ed324aa1-ea05-4eb4-b39a-41b06755779a",
   "metadata": {},
   "outputs": [],
   "source": [
    "# workers x memory_per_worker <= available memory\n",
    "# threads per worker == 1 if workload is CPU intensive\n",
    "# dashboard port might need to change if running multiple dask instances within lab\n",
    "WORKERS = 2\n",
    "MEMORY_PER_WORKER = \"2GB\"\n",
    "THREADS_PER_WORKER = 1\n",
    "DASHBOARD_PORT = \":8787\""
   ]
  },
  {
   "cell_type": "markdown",
   "id": "3ebcbdb2-59ae-4a74-9ae3-8ad4c311255f",
   "metadata": {
    "jp-MarkdownHeadingCollapsed": true,
    "tags": []
   },
   "source": [
    "## Local Dask cluster setup for analysis\n",
    "\n",
    "* Install bokeh, spawn cluster, provide access point to dashboards\n",
    "* Access jupyter hub at the address - https://jupyter.olcf.ornl.gov/hub/user-redirect/proxy/8787/status\")\n",
    "* Or access point for the Dask jupyter extension - /proxy/8787"
   ]
  },
  {
   "cell_type": "code",
   "execution_count": 2,
   "id": "815ad57c-56f6-4121-9ece-8da163523e9a",
   "metadata": {
    "scrolled": true,
    "tags": []
   },
   "outputs": [
    {
     "name": "stdout",
     "output_type": "stream",
     "text": [
      "Requirement already satisfied: bokeh in /opt/conda/lib/python3.8/site-packages (2.4.1)\n",
      "Requirement already satisfied: numpy>=1.11.3 in /opt/conda/lib/python3.8/site-packages (from bokeh) (1.19.5)\n",
      "Requirement already satisfied: pillow>=7.1.0 in /opt/conda/lib/python3.8/site-packages (from bokeh) (8.3.1)\n",
      "Requirement already satisfied: typing-extensions>=3.10.0 in /opt/conda/lib/python3.8/site-packages (from bokeh) (4.1.1)\n",
      "Requirement already satisfied: Jinja2>=2.9 in /opt/conda/lib/python3.8/site-packages (from bokeh) (3.0.3)\n",
      "Requirement already satisfied: packaging>=16.8 in /opt/conda/lib/python3.8/site-packages (from bokeh) (21.0)\n",
      "Requirement already satisfied: tornado>=5.1 in /opt/conda/lib/python3.8/site-packages (from bokeh) (6.1)\n",
      "Requirement already satisfied: PyYAML>=3.10 in /opt/conda/lib/python3.8/site-packages (from bokeh) (5.4.1)\n",
      "Requirement already satisfied: MarkupSafe>=2.0 in /opt/conda/lib/python3.8/site-packages (from Jinja2>=2.9->bokeh) (2.0.1)\n",
      "Requirement already satisfied: pyparsing>=2.0.2 in /opt/conda/lib/python3.8/site-packages (from packaging>=16.8->bokeh) (3.0.6)\n"
     ]
    }
   ],
   "source": [
    "# General prerequisites we want to have loaded from the get go\n",
    "!pip install bokeh"
   ]
  },
  {
   "cell_type": "code",
   "execution_count": 3,
   "id": "094603d9-4b57-4a74-a645-16e2c33cab5a",
   "metadata": {},
   "outputs": [],
   "source": [
    "# Cleanup\n",
    "try:\n",
    "    client.shutdown()\n",
    "    client.close()\n",
    "except Exception as e:\n",
    "    pass"
   ]
  },
  {
   "cell_type": "code",
   "execution_count": 4,
   "id": "c8301213-aed0-42d9-852e-e051de32ca01",
   "metadata": {},
   "outputs": [],
   "source": [
    "# Setup block\n",
    "import os\n",
    "import pwd\n",
    "import glob\n",
    "import pandas as pd\n",
    "from distributed import LocalCluster, Client\n",
    "import dask\n",
    "import dask.dataframe as dd\n",
    "\n",
    "#LOCALDIR = \"/gpfs/alpine/stf218/scratch/shinw/.tmp/dask-interactive\"\n",
    "LOCALDIR = \"/tmp/dask\""
   ]
  },
  {
   "cell_type": "code",
   "execution_count": 5,
   "id": "c97d9931-0647-4c8a-98a1-1f8568588665",
   "metadata": {},
   "outputs": [
    {
     "data": {
      "text/plain": [
       "<dask.config.set at 0x7feaf949b910>"
      ]
     },
     "execution_count": 5,
     "metadata": {},
     "output_type": "execute_result"
    }
   ],
   "source": [
    "dask.config.set({'worker.memory': {'target': False, 'spill': False, 'pause': 0.8, 'terminate': 0.95}})\n",
    "#dask.config.config"
   ]
  },
  {
   "cell_type": "code",
   "execution_count": 6,
   "id": "99871788-7c33-4a2d-9fd4-e3d4a34dfe4c",
   "metadata": {},
   "outputs": [
    {
     "name": "stdout",
     "output_type": "stream",
     "text": [
      "Access jupyter hub at the address - https://jupyter.olcf.ornl.gov/hub/user-redirect/proxy/8787/status\n",
      "Dask jupyter extension - /proxy/8787\n"
     ]
    },
    {
     "name": "stderr",
     "output_type": "stream",
     "text": [
      "distributed.diskutils - INFO - Found stale lock file and directory '/tmp/dask/dask-worker-space/worker-0_s3ij9e', purging\n"
     ]
    },
    {
     "data": {
      "text/html": [
       "<div>\n",
       "    <div style=\"width: 24px; height: 24px; background-color: #e1e1e1; border: 3px solid #9D9D9D; border-radius: 5px; position: absolute;\"> </div>\n",
       "    <div style=\"margin-left: 48px;\">\n",
       "        <h3 style=\"margin-bottom: 0px;\">Client</h3>\n",
       "        <p style=\"color: #9D9D9D; margin-bottom: 0px;\">Client-8fa5a539-b205-11ec-85dd-0a580a231da1</p>\n",
       "        <table style=\"width: 100%; text-align: left;\">\n",
       "\n",
       "        <tr>\n",
       "        \n",
       "            <td style=\"text-align: left;\"><strong>Connection method:</strong> Cluster object</td>\n",
       "            <td style=\"text-align: left;\"><strong>Cluster type:</strong> distributed.LocalCluster</td>\n",
       "        \n",
       "        </tr>\n",
       "\n",
       "        \n",
       "            <tr>\n",
       "                <td style=\"text-align: left;\">\n",
       "                    <strong>Dashboard: </strong> <a href=\"http://127.0.0.1:8787/status\" target=\"_blank\">http://127.0.0.1:8787/status</a>\n",
       "                </td>\n",
       "                <td style=\"text-align: left;\"></td>\n",
       "            </tr>\n",
       "        \n",
       "\n",
       "        </table>\n",
       "\n",
       "        \n",
       "            <details>\n",
       "            <summary style=\"margin-bottom: 20px;\"><h3 style=\"display: inline;\">Cluster Info</h3></summary>\n",
       "            <div class=\"jp-RenderedHTMLCommon jp-RenderedHTML jp-mod-trusted jp-OutputArea-output\">\n",
       "    <div style=\"width: 24px; height: 24px; background-color: #e1e1e1; border: 3px solid #9D9D9D; border-radius: 5px; position: absolute;\">\n",
       "    </div>\n",
       "    <div style=\"margin-left: 48px;\">\n",
       "        <h3 style=\"margin-bottom: 0px; margin-top: 0px;\">LocalCluster</h3>\n",
       "        <p style=\"color: #9D9D9D; margin-bottom: 0px;\">56ca44dc</p>\n",
       "        <table style=\"width: 100%; text-align: left;\">\n",
       "            <tr>\n",
       "                <td style=\"text-align: left;\">\n",
       "                    <strong>Dashboard:</strong> <a href=\"http://127.0.0.1:8787/status\" target=\"_blank\">http://127.0.0.1:8787/status</a>\n",
       "                </td>\n",
       "                <td style=\"text-align: left;\">\n",
       "                    <strong>Workers:</strong> 2\n",
       "                </td>\n",
       "            </tr>\n",
       "            <tr>\n",
       "                <td style=\"text-align: left;\">\n",
       "                    <strong>Total threads:</strong> 2\n",
       "                </td>\n",
       "                <td style=\"text-align: left;\">\n",
       "                    <strong>Total memory:</strong> 3.73 GiB\n",
       "                </td>\n",
       "            </tr>\n",
       "            \n",
       "            <tr>\n",
       "    <td style=\"text-align: left;\"><strong>Status:</strong> running</td>\n",
       "    <td style=\"text-align: left;\"><strong>Using processes:</strong> True</td>\n",
       "</tr>\n",
       "\n",
       "            \n",
       "        </table>\n",
       "\n",
       "        <details>\n",
       "            <summary style=\"margin-bottom: 20px;\">\n",
       "                <h3 style=\"display: inline;\">Scheduler Info</h3>\n",
       "            </summary>\n",
       "\n",
       "            <div style=\"\">\n",
       "    <div>\n",
       "        <div style=\"width: 24px; height: 24px; background-color: #FFF7E5; border: 3px solid #FF6132; border-radius: 5px; position: absolute;\"> </div>\n",
       "        <div style=\"margin-left: 48px;\">\n",
       "            <h3 style=\"margin-bottom: 0px;\">Scheduler</h3>\n",
       "            <p style=\"color: #9D9D9D; margin-bottom: 0px;\">Scheduler-5ae8aa4e-2cd2-4b44-b011-730efcc2b823</p>\n",
       "            <table style=\"width: 100%; text-align: left;\">\n",
       "                <tr>\n",
       "                    <td style=\"text-align: left;\">\n",
       "                        <strong>Comm:</strong> tcp://127.0.0.1:37905\n",
       "                    </td>\n",
       "                    <td style=\"text-align: left;\">\n",
       "                        <strong>Workers:</strong> 2\n",
       "                    </td>\n",
       "                </tr>\n",
       "                <tr>\n",
       "                    <td style=\"text-align: left;\">\n",
       "                        <strong>Dashboard:</strong> <a href=\"http://127.0.0.1:8787/status\" target=\"_blank\">http://127.0.0.1:8787/status</a>\n",
       "                    </td>\n",
       "                    <td style=\"text-align: left;\">\n",
       "                        <strong>Total threads:</strong> 2\n",
       "                    </td>\n",
       "                </tr>\n",
       "                <tr>\n",
       "                    <td style=\"text-align: left;\">\n",
       "                        <strong>Started:</strong> Just now\n",
       "                    </td>\n",
       "                    <td style=\"text-align: left;\">\n",
       "                        <strong>Total memory:</strong> 3.73 GiB\n",
       "                    </td>\n",
       "                </tr>\n",
       "            </table>\n",
       "        </div>\n",
       "    </div>\n",
       "\n",
       "    <details style=\"margin-left: 48px;\">\n",
       "        <summary style=\"margin-bottom: 20px;\">\n",
       "            <h3 style=\"display: inline;\">Workers</h3>\n",
       "        </summary>\n",
       "\n",
       "        \n",
       "        <div style=\"margin-bottom: 20px;\">\n",
       "            <div style=\"width: 24px; height: 24px; background-color: #DBF5FF; border: 3px solid #4CC9FF; border-radius: 5px; position: absolute;\"> </div>\n",
       "            <div style=\"margin-left: 48px;\">\n",
       "            <details>\n",
       "                <summary>\n",
       "                    <h4 style=\"margin-bottom: 0px; display: inline;\">Worker: 0</h4>\n",
       "                </summary>\n",
       "                <table style=\"width: 100%; text-align: left;\">\n",
       "                    <tr>\n",
       "                        <td style=\"text-align: left;\">\n",
       "                            <strong>Comm: </strong> tcp://127.0.0.1:39941\n",
       "                        </td>\n",
       "                        <td style=\"text-align: left;\">\n",
       "                            <strong>Total threads: </strong> 1\n",
       "                        </td>\n",
       "                    </tr>\n",
       "                    <tr>\n",
       "                        <td style=\"text-align: left;\">\n",
       "                            <strong>Dashboard: </strong> <a href=\"http://127.0.0.1:32775/status\" target=\"_blank\">http://127.0.0.1:32775/status</a>\n",
       "                        </td>\n",
       "                        <td style=\"text-align: left;\">\n",
       "                            <strong>Memory: </strong> 1.86 GiB\n",
       "                        </td>\n",
       "                    </tr>\n",
       "                    <tr>\n",
       "                        <td style=\"text-align: left;\">\n",
       "                            <strong>Nanny: </strong> tcp://127.0.0.1:43435\n",
       "                        </td>\n",
       "                        <td style=\"text-align: left;\"></td>\n",
       "                    </tr>\n",
       "                    <tr>\n",
       "                        <td colspan=\"2\" style=\"text-align: left;\">\n",
       "                            <strong>Local directory: </strong> /tmp/dask/dask-worker-space/worker-jous91rh\n",
       "                        </td>\n",
       "                    </tr>\n",
       "\n",
       "                    \n",
       "\n",
       "                    \n",
       "\n",
       "                </table>\n",
       "            </details>\n",
       "            </div>\n",
       "        </div>\n",
       "        \n",
       "        <div style=\"margin-bottom: 20px;\">\n",
       "            <div style=\"width: 24px; height: 24px; background-color: #DBF5FF; border: 3px solid #4CC9FF; border-radius: 5px; position: absolute;\"> </div>\n",
       "            <div style=\"margin-left: 48px;\">\n",
       "            <details>\n",
       "                <summary>\n",
       "                    <h4 style=\"margin-bottom: 0px; display: inline;\">Worker: 1</h4>\n",
       "                </summary>\n",
       "                <table style=\"width: 100%; text-align: left;\">\n",
       "                    <tr>\n",
       "                        <td style=\"text-align: left;\">\n",
       "                            <strong>Comm: </strong> tcp://127.0.0.1:39015\n",
       "                        </td>\n",
       "                        <td style=\"text-align: left;\">\n",
       "                            <strong>Total threads: </strong> 1\n",
       "                        </td>\n",
       "                    </tr>\n",
       "                    <tr>\n",
       "                        <td style=\"text-align: left;\">\n",
       "                            <strong>Dashboard: </strong> <a href=\"http://127.0.0.1:45263/status\" target=\"_blank\">http://127.0.0.1:45263/status</a>\n",
       "                        </td>\n",
       "                        <td style=\"text-align: left;\">\n",
       "                            <strong>Memory: </strong> 1.86 GiB\n",
       "                        </td>\n",
       "                    </tr>\n",
       "                    <tr>\n",
       "                        <td style=\"text-align: left;\">\n",
       "                            <strong>Nanny: </strong> tcp://127.0.0.1:43649\n",
       "                        </td>\n",
       "                        <td style=\"text-align: left;\"></td>\n",
       "                    </tr>\n",
       "                    <tr>\n",
       "                        <td colspan=\"2\" style=\"text-align: left;\">\n",
       "                            <strong>Local directory: </strong> /tmp/dask/dask-worker-space/worker-ew93_xqa\n",
       "                        </td>\n",
       "                    </tr>\n",
       "\n",
       "                    \n",
       "\n",
       "                    \n",
       "\n",
       "                </table>\n",
       "            </details>\n",
       "            </div>\n",
       "        </div>\n",
       "        \n",
       "\n",
       "    </details>\n",
       "</div>\n",
       "\n",
       "        </details>\n",
       "    </div>\n",
       "</div>\n",
       "            </details>\n",
       "        \n",
       "\n",
       "    </div>\n",
       "</div>"
      ],
      "text/plain": [
       "<Client: 'tcp://127.0.0.1:37905' processes=2 threads=2, memory=3.73 GiB>"
      ]
     },
     "execution_count": 6,
     "metadata": {},
     "output_type": "execute_result"
    }
   ],
   "source": [
    "# Cluster creation\n",
    "cluster = LocalCluster(processes=True, n_workers=WORKERS, threads_per_worker=THREADS_PER_WORKER,\n",
    "                       dashboard_address=DASHBOARD_PORT, local_directory=LOCALDIR,\n",
    "                       memory_limit=MEMORY_PER_WORKER)\n",
    "\n",
    "client = Client(cluster)\n",
    "cluster\n",
    "print(\"Access jupyter hub at the address - https://jupyter.olcf.ornl.gov/hub/user-redirect/proxy/8787/status\")\n",
    "print(\"Dask jupyter extension - /proxy/8787\")\n",
    "client"
   ]
  },
  {
   "cell_type": "markdown",
   "id": "55b94f6d-5bd4-4204-ae29-1094e77ccaae",
   "metadata": {
    "tags": []
   },
   "source": [
    "# Preloading tools & libraries"
   ]
  },
  {
   "cell_type": "code",
   "execution_count": 3,
   "id": "4ff74e30-7ffa-441f-898e-587ddbad5f23",
   "metadata": {
    "scrolled": true,
    "tags": []
   },
   "outputs": [
    {
     "name": "stdout",
     "output_type": "stream",
     "text": [
      "seaborn version: 0.11.2\n",
      "Python version:\n",
      "3.8.10 | packaged by conda-forge | (default, May 11 2021, 07:01:05) \n",
      "[GCC 9.3.0]\n",
      "\n",
      "matplotlib version: 3.4.2\n",
      "pandas version: 1.3.1\n",
      "numpy version: 1.19.5\n"
     ]
    }
   ],
   "source": [
    "import sys\n",
    "import os, glob, datetime\n",
    "import pandas as pd\n",
    "import numpy as np\n",
    "import matplotlib\n",
    "import matplotlib.pyplot as plt\n",
    "import pandas as pd\n",
    "import numpy as np\n",
    "import seaborn as sns\n",
    "from dask import dataframe as dd\n",
    "from dask import bag as db\n",
    "print(\"seaborn version: {}\".format(sns.__version__))\n",
    "print(\"Python version:\\n{}\\n\".format(sys.version))\n",
    "print(\"matplotlib version: {}\".format(matplotlib.__version__))\n",
    "print(\"pandas version: {}\".format(pd.__version__))\n",
    "print(\"numpy version: {}\".format(np.__version__))"
   ]
  },
  {
   "cell_type": "markdown",
   "id": "3e78a350-4175-49f5-b58a-8546f5ed6793",
   "metadata": {},
   "source": [
    "# File locations"
   ]
  },
  {
   "cell_type": "code",
   "execution_count": 2,
   "id": "4dd2d85c-3aaa-4151-ae78-322f7982b942",
   "metadata": {},
   "outputs": [],
   "source": [
    "DATA_BASE_PATH = \"../data\""
   ]
  },
  {
   "cell_type": "markdown",
   "id": "16ef37e1-9e03-4fb9-862b-fef3451e3351",
   "metadata": {},
   "source": [
    "# Testing dataset I/O"
   ]
  },
  {
   "cell_type": "markdown",
   "id": "e4279be6-24de-448a-a00f-eda7baebbc32",
   "metadata": {},
   "source": [
    "## Test sample dataset A"
   ]
  },
  {
   "cell_type": "code",
   "execution_count": 11,
   "id": "fa0ed40e-da18-490d-877a-167404bc9250",
   "metadata": {
    "tags": []
   },
   "outputs": [],
   "source": [
    "DATASET_NAME = \"a_\"\n",
    "FILES = sorted(glob.glob(f\"{DATA_BASE_PATH}/{DATASET_NAME}/*.parquet\"))"
   ]
  },
  {
   "cell_type": "code",
   "execution_count": null,
   "id": "8fd9ec10-873e-4954-a6e4-59fb7ae3c6b5",
   "metadata": {},
   "outputs": [],
   "source": []
  },
  {
   "cell_type": "code",
   "execution_count": null,
   "id": "6c787a8d-a0cd-4830-a417-5615426ce651",
   "metadata": {},
   "outputs": [],
   "source": []
  },
  {
   "cell_type": "markdown",
   "id": "72c2cf06-d597-4663-b040-a8e1157a6d75",
   "metadata": {
    "tags": []
   },
   "source": [
    "## Test sample dataset B"
   ]
  },
  {
   "cell_type": "code",
   "execution_count": 11,
   "id": "5be376b1-74bd-429f-9c19-54db6ce99cbd",
   "metadata": {
    "tags": []
   },
   "outputs": [],
   "source": [
    "DATASET_NAME = \"b_snapshot_10sec_24h\"\n",
    "FILES = sorted(glob.glob(f\"{DATA_BASE_PATH}/{DATASET_NAME}/*.parquet\"))"
   ]
  },
  {
   "cell_type": "code",
   "execution_count": null,
   "id": "249d727d-cb04-44e1-b13c-85de55ce49e8",
   "metadata": {
    "tags": []
   },
   "outputs": [],
   "source": [
    "%%time\n",
    "# Test dataset b using Dask\n",
    "ddf = dd.read_parquet(\n",
    "                FILES,\n",
    "                index=False,\n",
    "                engine=\"pyarrow\",\n",
    "                split_row_groups=True,\n",
    "                gather_statistics=True\n",
    ")\n",
    "\n",
    "df = ddf[ddf['hostname'] == 'a26n16'].compute()\n",
    "df.info()"
   ]
  },
  {
   "cell_type": "code",
   "execution_count": 10,
   "id": "8902584b-b5eb-4eb3-b2a0-1b99fd87d2ab",
   "metadata": {},
   "outputs": [
    {
     "name": "stdout",
     "output_type": "stream",
     "text": [
      "<class 'pandas.core.frame.DataFrame'>\n",
      "Int64Index: 558673 entries, 0 to 25512218\n",
      "Data columns (total 30 columns):\n",
      " #   Column             Non-Null Count   Dtype              \n",
      "---  ------             --------------   -----              \n",
      " 0   timestamp          558673 non-null  datetime64[ns, UTC]\n",
      " 1   hostname           558673 non-null  object             \n",
      " 2   p0_gpu0_power      558564 non-null  float32            \n",
      " 3   p0_gpu1_power      558561 non-null  float32            \n",
      " 4   p0_gpu2_power      558563 non-null  float32            \n",
      " 5   p1_gpu0_power      558561 non-null  float32            \n",
      " 6   p1_gpu1_power      558561 non-null  float32            \n",
      " 7   p1_gpu2_power      558561 non-null  float32            \n",
      " 8   p0_power           558564 non-null  float32            \n",
      " 9   p1_power           558561 non-null  float32            \n",
      " 10  gpu0_core_temp     558561 non-null  float32            \n",
      " 11  gpu0_mem_temp      558514 non-null  float32            \n",
      " 12  gpu1_core_temp     558561 non-null  float32            \n",
      " 13  gpu1_mem_temp      558507 non-null  float32            \n",
      " 14  gpu2_core_temp     558561 non-null  float32            \n",
      " 15  gpu2_mem_temp      558495 non-null  float32            \n",
      " 16  gpu3_core_temp     558561 non-null  float32            \n",
      " 17  gpu3_mem_temp      558494 non-null  float32            \n",
      " 18  gpu4_core_temp     558561 non-null  float32            \n",
      " 19  gpu4_mem_temp      558492 non-null  float32            \n",
      " 20  gpu5_core_temp     558561 non-null  float32            \n",
      " 21  gpu5_mem_temp      558491 non-null  float32            \n",
      " 22  ps0_input_power    558673 non-null  float32            \n",
      " 23  ps1_input_power    558673 non-null  float32            \n",
      " 24  p0_core_temp_mean  558561 non-null  float32            \n",
      " 25  p0_core_temp_min   558561 non-null  float32            \n",
      " 26  p0_core_temp_max   558561 non-null  float32            \n",
      " 27  p1_core_temp_mean  558561 non-null  float32            \n",
      " 28  p1_core_temp_min   558561 non-null  float32            \n",
      " 29  p1_core_temp_max   558561 non-null  float32            \n",
      "dtypes: datetime64[ns, UTC](1), float32(28), object(1)\n",
      "memory usage: 72.5+ MB\n",
      "CPU times: user 12.6 s, sys: 3.47 s, total: 16.1 s\n",
      "Wall time: 3.26 s\n"
     ]
    }
   ],
   "source": [
    "%%time\n",
    "# Test dataset b using only Pandas\n",
    "df = pd.read_parquet(FILES, engine=\"pyarrow\",)\n",
    "df = df[df['hostname'] == 'a26n16']\n",
    "df.info()"
   ]
  },
  {
   "cell_type": "markdown",
   "id": "af971c44-4763-49f2-a7ee-cdd00ace88b2",
   "metadata": {},
   "source": [
    "## Test sample dataset D\n",
    "\n",
    "Each parquet file in dataset D is a single partition parquet file which will need around 2GB of memory to load."
   ]
  },
  {
   "cell_type": "code",
   "execution_count": 11,
   "id": "f54b5352-c24f-4e67-af8d-f9084d966fe0",
   "metadata": {
    "tags": []
   },
   "outputs": [],
   "source": [
    "DATASET_NAME = \"d_sample_4626_24h\"\n",
    "FILES = sorted(glob.glob(f\"{DATA_BASE_PATH}/{DATASET_NAME}/*.parquet\"))"
   ]
  },
  {
   "cell_type": "code",
   "execution_count": 12,
   "id": "ddafa96f-e6a1-4208-a198-c93e9322bccf",
   "metadata": {},
   "outputs": [
    {
     "name": "stdout",
     "output_type": "stream",
     "text": [
      "<class 'pandas.core.frame.DataFrame'>\n",
      "RangeIndex: 6832386 entries, 0 to 6832385\n",
      "Data columns (total 71 columns):\n",
      " #   Column           Dtype              \n",
      "---  ------           -----              \n",
      " 0   timestamp        datetime64[ns, UTC]\n",
      " 1   node_state       object             \n",
      " 2   hostname         object             \n",
      " 3   p0_gpu0_power    float32            \n",
      " 4   p0_gpu1_power    float32            \n",
      " 5   p0_gpu2_power    float32            \n",
      " 6   p1_gpu0_power    float32            \n",
      " 7   p1_gpu1_power    float32            \n",
      " 8   p1_gpu2_power    float32            \n",
      " 9   p0_power         float32            \n",
      " 10  p1_power         float32            \n",
      " 11  gpu0_core_temp   float32            \n",
      " 12  gpu0_mem_temp    float32            \n",
      " 13  gpu1_core_temp   float32            \n",
      " 14  gpu1_mem_temp    float32            \n",
      " 15  gpu2_core_temp   float32            \n",
      " 16  gpu2_mem_temp    float32            \n",
      " 17  gpu3_core_temp   float32            \n",
      " 18  gpu3_mem_temp    float32            \n",
      " 19  gpu4_core_temp   float32            \n",
      " 20  gpu4_mem_temp    float32            \n",
      " 21  gpu5_core_temp   float32            \n",
      " 22  gpu5_mem_temp    float32            \n",
      " 23  p0_core0_temp    float32            \n",
      " 24  p0_core1_temp    float32            \n",
      " 25  p0_core2_temp    float32            \n",
      " 26  p0_core3_temp    float32            \n",
      " 27  p0_core4_temp    float32            \n",
      " 28  p0_core5_temp    float32            \n",
      " 29  p0_core6_temp    float32            \n",
      " 30  p0_core7_temp    float32            \n",
      " 31  p0_core8_temp    float32            \n",
      " 32  p0_core9_temp    float32            \n",
      " 33  p0_core10_temp   float32            \n",
      " 34  p0_core11_temp   float32            \n",
      " 35  p0_core12_temp   float32            \n",
      " 36  p0_core14_temp   float32            \n",
      " 37  p0_core15_temp   float32            \n",
      " 38  p0_core16_temp   float32            \n",
      " 39  p0_core17_temp   float32            \n",
      " 40  p0_core18_temp   float32            \n",
      " 41  p0_core19_temp   float32            \n",
      " 42  p0_core20_temp   float32            \n",
      " 43  p0_core21_temp   float32            \n",
      " 44  p0_core22_temp   float32            \n",
      " 45  p0_core23_temp   float32            \n",
      " 46  p1_core0_temp    float32            \n",
      " 47  p1_core1_temp    float32            \n",
      " 48  p1_core2_temp    float32            \n",
      " 49  p1_core3_temp    float32            \n",
      " 50  p1_core4_temp    float32            \n",
      " 51  p1_core5_temp    float32            \n",
      " 52  p1_core6_temp    float32            \n",
      " 53  p1_core7_temp    float32            \n",
      " 54  p1_core8_temp    float32            \n",
      " 55  p1_core9_temp    float32            \n",
      " 56  p1_core10_temp   float32            \n",
      " 57  p1_core11_temp   float32            \n",
      " 58  p1_core12_temp   float32            \n",
      " 59  p1_core14_temp   float32            \n",
      " 60  p1_core15_temp   float32            \n",
      " 61  p1_core16_temp   float32            \n",
      " 62  p1_core17_temp   float32            \n",
      " 63  p1_core18_temp   float32            \n",
      " 64  p1_core19_temp   float32            \n",
      " 65  p1_core20_temp   float32            \n",
      " 66  p1_core21_temp   float32            \n",
      " 67  p1_core22_temp   float32            \n",
      " 68  p1_core23_temp   float32            \n",
      " 69  ps0_input_power  float32            \n",
      " 70  ps1_input_power  float32            \n",
      "dtypes: datetime64[ns, UTC](1), float32(68), object(2)\n",
      "memory usage: 1.9+ GB\n"
     ]
    }
   ],
   "source": [
    "# Test dataset b using only Pandas\n",
    "for file in FILES:\n",
    "    df = pd.read_parquet(file, engine=\"pyarrow\",)\n",
    "    break\n",
    "df.info()"
   ]
  },
  {
   "cell_type": "markdown",
   "id": "fc7e36ea-67e6-41d8-a464-5833384ff3db",
   "metadata": {},
   "source": [
    "## Test sample dataset E"
   ]
  },
  {
   "cell_type": "code",
   "execution_count": 7,
   "id": "14c09051-28df-4bc4-ab67-86e4eb8f55a9",
   "metadata": {
    "tags": []
   },
   "outputs": [],
   "source": [
    "DATASET_NAME = \"e_full_10sec_100hosts\"\n",
    "DATASET_PATH = f\"{DATA_BASE_PATH}/{DATASET_NAME}\""
   ]
  },
  {
   "cell_type": "code",
   "execution_count": 8,
   "id": "8e3ad8e1-814c-49fc-9925-76af6f6e60e6",
   "metadata": {},
   "outputs": [],
   "source": [
    "import glob\n",
    "import pandas as pd\n",
    "\n",
    "def get_host_dataframe(\n",
    "    input_path = DATASET_PATH,\n",
    "    hostnames = [],\n",
    "    months = [\"202001\", \"202008\", \"202102\", \"202108\", \"202201\"],\n",
    "    sort_values=[\"hostname\", \"timestamp\"],\n",
    "    set_index=[\"hostname\"],\n",
    "    columns=None,\n",
    "):\n",
    "    print(f\"[reading time series for {hostnames} during {months}]\")\n",
    "    if columns != None:\n",
    "        if \"hostname\" not in columns:\n",
    "            columns.push(\"hostname\")\n",
    "        if \"timestamp\" not in columns:\n",
    "            columns.push(\"timestamp\")\n",
    "    \n",
    "    # Iterate all the files and fetch data for only the hostnames we're interested\n",
    "    df_list = []\n",
    "    for month in months:\n",
    "        print(f\"- reading {month}\")\n",
    "        files = sorted(glob.glob(f\"{input_path}/{month}*.parquet\"))\n",
    "        for file in files:\n",
    "            df = pd.read_parquet(file, engine=\"pyarrow\", columns=columns)\n",
    "            if hostnames != []:\n",
    "                mask = df['hostname'].isin(hostnames)\n",
    "                df_list.append(df[mask])\n",
    "            else:\n",
    "                df_list.append(df)\n",
    "        \n",
    "    print(\"- merging dataframe\")\n",
    "    df = pd.concat(df_list).reset_index(drop=True)\n",
    "    \n",
    "    print(f\"- sorting based on {sort_values}\")\n",
    "    if sort_values != []:\n",
    "        df = df.sort_values(sort_values)\n",
    "    if set_index != []:\n",
    "        df = df.set_index(set_index)\n",
    "    print(\"- read success\")\n",
    "    return df    "
   ]
  },
  {
   "cell_type": "code",
   "execution_count": 9,
   "id": "3cfbd10a-50d8-46ed-8872-ca285553243c",
   "metadata": {},
   "outputs": [
    {
     "name": "stdout",
     "output_type": "stream",
     "text": [
      "[reading time series for ['f04n08', 'e34n12'] during ['202001', '202008', '202102', '202108', '202201']]\n",
      "- reading 202001\n",
      "- reading 202008\n",
      "- reading 202102\n",
      "- reading 202108\n",
      "- reading 202201\n",
      "- merging dataframe\n",
      "- sorting based on ['hostname', 'timestamp']\n",
      "- read success\n"
     ]
    }
   ],
   "source": [
    "df = get_host_dataframe(hostnames = ['f04n08', 'e34n12'], columns=[\"timestamp\", \"hostname\", \"ps0_input_power\", \"ps1_input_power\"])"
   ]
  },
  {
   "cell_type": "code",
   "execution_count": 10,
   "id": "7d252ab6-0a80-4cd7-be08-b804e085ce37",
   "metadata": {},
   "outputs": [
    {
     "name": "stdout",
     "output_type": "stream",
     "text": [
      "<class 'pandas.core.frame.DataFrame'>\n",
      "Index: 2495783 entries, e34n12 to f04n08\n",
      "Data columns (total 3 columns):\n",
      " #   Column           Dtype              \n",
      "---  ------           -----              \n",
      " 0   timestamp        datetime64[ns, UTC]\n",
      " 1   ps0_input_power  float32            \n",
      " 2   ps1_input_power  float32            \n",
      "dtypes: datetime64[ns, UTC](1), float32(2)\n",
      "memory usage: 57.1+ MB\n"
     ]
    }
   ],
   "source": [
    "df.info()"
   ]
  },
  {
   "cell_type": "code",
   "execution_count": null,
   "id": "80bc6deb-5496-412f-b6ae-0bf78d05b329",
   "metadata": {},
   "outputs": [],
   "source": []
  }
 ],
 "metadata": {
  "kernelspec": {
   "display_name": "OLCF-base (ipykernel)",
   "language": "python",
   "name": "python3"
  },
  "language_info": {
   "codemirror_mode": {
    "name": "ipython",
    "version": 3
   },
   "file_extension": ".py",
   "mimetype": "text/x-python",
   "name": "python",
   "nbconvert_exporter": "python",
   "pygments_lexer": "ipython3",
   "version": "3.8.10"
  },
  "toc-autonumbering": false,
  "toc-showcode": false,
  "toc-showtags": false
 },
 "nbformat": 4,
 "nbformat_minor": 5
}
